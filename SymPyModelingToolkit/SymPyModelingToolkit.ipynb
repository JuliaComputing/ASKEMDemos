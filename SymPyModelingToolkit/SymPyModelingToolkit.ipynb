{
 "cells": [
  {
   "cell_type": "markdown",
   "metadata": {},
   "source": [
    "Testing SymPy to Symbolics.jl conversions\n",
    "Jadon Clugston\n",
    "09/07/2023"
   ]
  },
  {
   "cell_type": "code",
   "execution_count": 34,
   "metadata": {},
   "outputs": [],
   "source": [
    "from juliacall import Main as jl\n",
    "import sympy as sp\n",
    "import numpy as np\n",
    "import matplotlib.pyplot as plt"
   ]
  },
  {
   "cell_type": "code",
   "execution_count": 22,
   "metadata": {},
   "outputs": [],
   "source": [
    "jl.seval(\"using Symbolics\")\n",
    "jl.seval(\"using ModelingToolkit\")\n",
    "jl.seval(\"using SymPyPythonCall\")\n",
    "jl.seval(\"using DifferentialEquations\")"
   ]
  },
  {
   "cell_type": "code",
   "execution_count": 10,
   "metadata": {},
   "outputs": [],
   "source": [
    "import juliapkg"
   ]
  },
  {
   "cell_type": "code",
   "execution_count": 11,
   "metadata": {},
   "outputs": [
    {
     "data": {
      "text/plain": [
       "True"
      ]
     },
     "execution_count": 11,
     "metadata": {},
     "output_type": "execute_result"
    }
   ],
   "source": [
    "juliapkg.resolve()"
   ]
  },
  {
   "cell_type": "code",
   "execution_count": 12,
   "metadata": {},
   "outputs": [],
   "source": [
    "fol = sp.sympify(\"Eq(Derivative(x(t),t), (1 - x(t))/3.0)\")"
   ]
  },
  {
   "cell_type": "code",
   "execution_count": 13,
   "metadata": {},
   "outputs": [
    {
     "data": {
      "text/latex": [
       "$$ \\begin{equation}\n",
       "0.33333 - 0.33333 x\\left( t \\right) = \\frac{\\mathrm{d} x\\left( t \\right)}{\\mathrm{d}t}\n",
       "\\end{equation}\n",
       " $$"
      ],
      "text/plain": [
       "0.3333333333333333 - 0.3333333333333333x(t) ~ Differential(t)(x(t))"
      ]
     },
     "execution_count": 13,
     "metadata": {},
     "output_type": "execute_result"
    }
   ],
   "source": [
    "jl.pyconvert(jl.Symbolics.Equation,fol)"
   ]
  },
  {
   "cell_type": "code",
   "execution_count": 14,
   "metadata": {},
   "outputs": [
    {
     "data": {
      "text/latex": [
       "$\\displaystyle \\frac{d}{d t} x{\\left(t \\right)} = 0.333333333333333 - 0.333333333333333 x{\\left(t \\right)}$"
      ],
      "text/plain": [
       "Eq(Derivative(x(t), t), 0.333333333333333 - 0.333333333333333*x(t))"
      ]
     },
     "execution_count": 14,
     "metadata": {},
     "output_type": "execute_result"
    }
   ],
   "source": [
    "fol"
   ]
  },
  {
   "cell_type": "code",
   "execution_count": 14,
   "metadata": {},
   "outputs": [
    {
     "data": {
      "text/latex": [
       "$$ \\begin{equation}\n",
       "0.33333 - 0.33333 x\\left( t \\right) = \\frac{\\mathrm{d} x\\left( t \\right)}{\\mathrm{d}t}\n",
       "\\end{equation}\n",
       " $$"
      ],
      "text/plain": [
       "0.3333333333333333 - 0.3333333333333333x(t) ~ Differential(t)(x(t))"
      ]
     },
     "execution_count": 14,
     "metadata": {},
     "output_type": "execute_result"
    }
   ],
   "source": [
    "jl.pyconvert(jl.Symbolics.Equation,fol)"
   ]
  },
  {
   "cell_type": "code",
   "execution_count": 15,
   "metadata": {},
   "outputs": [],
   "source": [
    "vars = jl.Symbolics.get_variables(fol)"
   ]
  },
  {
   "cell_type": "code",
   "execution_count": 17,
   "metadata": {},
   "outputs": [],
   "source": [
    "odesys = jl.ODESystem(fol,jl.arguments(vars[0])[0], name = jl.Symbol(\"odesys\"))"
   ]
  },
  {
   "cell_type": "code",
   "execution_count": 18,
   "metadata": {},
   "outputs": [],
   "source": [
    "simplified = jl.structural_simplify(odesys)"
   ]
  },
  {
   "cell_type": "code",
   "execution_count": 20,
   "metadata": {},
   "outputs": [],
   "source": [
    "prob = jl.ODEProblem(simplified,jl.pyconvert(jl.Vector,[jl.pyconvert(jl.Float64,0.0)]), jl.pyconvert(jl.Vector,(jl.pyconvert(jl.Float64,0.0),jl.pyconvert(jl.Float64,10.0))))"
   ]
  },
  {
   "cell_type": "code",
   "execution_count": 23,
   "metadata": {},
   "outputs": [],
   "source": [
    "sol = jl.solve(prob,jl.Tsit5())"
   ]
  },
  {
   "cell_type": "code",
   "execution_count": 35,
   "metadata": {},
   "outputs": [],
   "source": [
    "intersol = sol(np.arange(0,10,0.01))"
   ]
  },
  {
   "cell_type": "code",
   "execution_count": 42,
   "metadata": {},
   "outputs": [],
   "source": [
    "tnums = intersol.t"
   ]
  },
  {
   "cell_type": "code",
   "execution_count": 44,
   "metadata": {},
   "outputs": [],
   "source": [
    "solnums = jl.reduce(jl.vcat,intersol.u)"
   ]
  },
  {
   "cell_type": "code",
   "execution_count": 45,
   "metadata": {},
   "outputs": [
    {
     "data": {
      "text/plain": [
       "[<matplotlib.lines.Line2D at 0x7fac89783460>]"
      ]
     },
     "execution_count": 45,
     "metadata": {},
     "output_type": "execute_result"
    },
    {
     "data": {
      "image/png": "[encoded data removed]",
      "text/plain": [
       "<Figure size 640x480 with 1 Axes>"
      ]
     },
     "metadata": {},
     "output_type": "display_data"
    }
   ],
   "source": [
    "plt.plot(tnums,solnums)"
   ]
  },
  {
   "cell_type": "code",
   "execution_count": 98,
   "metadata": {},
   "outputs": [],
   "source": [
    "spsys = sp.sympify(\"[Eq(Derivative(x(t),t), (1 - x(t))/3.0), Eq(Derivative(y(t),t), (1 + y(t))/3.0)]\")"
   ]
  },
  {
   "cell_type": "code",
   "execution_count": 99,
   "metadata": {},
   "outputs": [],
   "source": [
    "sysvar1 = jl.Symbolics.get_variables(spsys[0])\n",
    "sysvar2 = jl.Symbolics.get_variables(spsys[1])"
   ]
  },
  {
   "cell_type": "code",
   "execution_count": 100,
   "metadata": {},
   "outputs": [],
   "source": [
    "odebigsys = jl.ODESystem(spsys,jl.arguments(sysvar1[0])[0], name = jl.Symbol(\"odesys\"))"
   ]
  },
  {
   "cell_type": "code",
   "execution_count": 101,
   "metadata": {},
   "outputs": [],
   "source": [
    "bigsimplified = jl.structural_simplify(odebigsys)"
   ]
  },
  {
   "cell_type": "code",
   "execution_count": 102,
   "metadata": {},
   "outputs": [],
   "source": [
    "bigprob = jl.ODEProblem(bigsimplified,jl.pyconvert(jl.Vector,[jl.pyconvert(jl.Float64,0.0),jl.pyconvert(jl.Float64,0.1)]), jl.pyconvert(jl.Vector,(jl.pyconvert(jl.Float64,0.0),jl.pyconvert(jl.Float64,10.0))))"
   ]
  },
  {
   "cell_type": "code",
   "execution_count": 103,
   "metadata": {},
   "outputs": [],
   "source": [
    "bigsol = jl.solve(bigprob,jl.Tsit5())"
   ]
  },
  {
   "cell_type": "code",
   "execution_count": 104,
   "metadata": {},
   "outputs": [
    {
     "data": {
      "text/plain": [
       "retcode: Success\n",
       "Interpolation: specialized 4th order \"free\" interpolation\n",
       "t: 12-element Vector{Float64}:\n",
       "  0.0\n",
       "  0.0029701208832612833\n",
       "  0.032671329715874116\n",
       "  0.23808000868921736\n",
       "  0.7092847935693931\n",
       "  1.401441340697768\n",
       "  2.2826148488430587\n",
       "  3.4063606967843505\n",
       "  4.763168498113075\n",
       "  6.370941753177284\n",
       "  8.218989222543868\n",
       " 10.0\n",
       "u: 12-element Vector{Vector{Float64}}:\n",
       " [0.0, 0.1]\n",
       " [0.0009895503662243625, 0.1010895836006979]\n",
       " [0.010831357047777932, 0.1120449559713058]\n",
       " [0.076292672726754, 0.19085338779025618]\n",
       " [0.21055748766448987, 0.393388352429212]\n",
       " [0.37321211409603927, 0.7549797055553776]\n",
       " [0.5327409726024249, 1.354154848207483]\n",
       " [0.6787234507647881, 2.423843228291658]\n",
       " [0.7956090187710207, 4.3818525574459795]\n",
       " [0.880404393773177, 8.19772431378179]\n",
       " [0.9354063480333682, 16.02987735023362]\n",
       " [0.9643247203754745, 29.834602742421904]"
      ]
     },
     "execution_count": 104,
     "metadata": {},
     "output_type": "execute_result"
    }
   ],
   "source": [
    "bigsol"
   ]
  },
  {
   "cell_type": "code",
   "execution_count": 105,
   "metadata": {},
   "outputs": [
    {
     "data": {
      "text/plain": [
       "12-element Vector{Float64}:\n",
       "  0.0\n",
       "  0.0029701208832612833\n",
       "  0.032671329715874116\n",
       "  0.23808000868921736\n",
       "  0.7092847935693931\n",
       "  1.401441340697768\n",
       "  2.2826148488430587\n",
       "  3.4063606967843505\n",
       "  4.763168498113075\n",
       "  6.370941753177284\n",
       "  8.218989222543868\n",
       " 10.0"
      ]
     },
     "execution_count": 105,
     "metadata": {},
     "output_type": "execute_result"
    }
   ],
   "source": [
    "bigsol.t"
   ]
  },
  {
   "cell_type": "code",
   "execution_count": 106,
   "metadata": {},
   "outputs": [],
   "source": [
    "bigsolnums = jl.reduce(jl.hcat,bigsol.u)"
   ]
  },
  {
   "cell_type": "code",
   "execution_count": 107,
   "metadata": {},
   "outputs": [],
   "source": [
    "bigsolx = bigsolnums[0,:]"
   ]
  },
  {
   "cell_type": "code",
   "execution_count": 108,
   "metadata": {},
   "outputs": [],
   "source": [
    "bigsoly = bigsolnums[1,:]"
   ]
  },
  {
   "cell_type": "code",
   "execution_count": 109,
   "metadata": {},
   "outputs": [
    {
     "data": {
      "text/plain": [
       "[<matplotlib.lines.Line2D at 0x7fac80a1e500>]"
      ]
     },
     "execution_count": 109,
     "metadata": {},
     "output_type": "execute_result"
    },
    {
     "data": {
      "image/png": "[encoded data removed]",
      "text/plain": [
       "<Figure size 640x480 with 1 Axes>"
      ]
     },
     "metadata": {},
     "output_type": "display_data"
    }
   ],
   "source": [
    "plt.plot(bigsol.t,bigsoly)"
   ]
  },
  {
   "cell_type": "code",
   "execution_count": 110,
   "metadata": {},
   "outputs": [
    {
     "data": {
      "text/plain": [
       "[<matplotlib.lines.Line2D at 0x7fac80a96b60>]"
      ]
     },
     "execution_count": 110,
     "metadata": {},
     "output_type": "execute_result"
    },
    {
     "data": {
      "image/png": "[encoded data removed]",
      "text/plain": [
       "<Figure size 640x480 with 1 Axes>"
      ]
     },
     "metadata": {},
     "output_type": "display_data"
    }
   ],
   "source": [
    "plt.plot(bigsol.t,bigsolx)"
   ]
  },
  {
   "cell_type": "code",
   "execution_count": null,
   "metadata": {},
   "outputs": [],
   "source": []
  }
 ],
 "metadata": {
  "kernelspec": {
   "display_name": "Python 3",
   "language": "python",
   "name": "python3"
  },
  "language_info": {
   "codemirror_mode": {
    "name": "ipython",
    "version": 3
   },
   "file_extension": ".py",
   "mimetype": "text/x-python",
   "name": "python",
   "nbconvert_exporter": "python",
   "pygments_lexer": "ipython3",
   "version": "3.10.12"
  },
  "orig_nbformat": 4
 },
 "nbformat": 4,
 "nbformat_minor": 2
}
